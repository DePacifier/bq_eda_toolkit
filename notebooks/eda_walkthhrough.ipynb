{
 "cells": [
  {
   "cell_type": "markdown",
   "id": "5f571662",
   "metadata": {},
   "source": [
    "# 🧰 BigQueryVisualizer – Quick EDA Walk-Through  \n",
    "This notebook shows two workflows:\n",
    "\n",
    "1. **Manual**: call individual helper methods for ad-hoc plots & stats.  \n",
    "2. **Pipeline**: run the entire modular EDA pipeline in one line.\n",
    "\n",
    "*Dataset used*: `bigquery-public-data.samples.natality` (public)."
   ]
  },
  {
   "cell_type": "code",
   "execution_count": null,
   "id": "7d125b0e",
   "metadata": {},
   "outputs": [],
   "source": [
    "from bigquery_visualizer import BigQueryVisualizer\n",
    "from pipeline import Pipeline"
   ]
  },
  {
   "cell_type": "code",
   "execution_count": null,
   "id": "4d44d8eb",
   "metadata": {},
   "outputs": [],
   "source": [
    "PROJECT = \"bigquery-public-data\"\n",
    "TABLE   = \"samples.natality\"\n",
    "\n",
    "viz = BigQueryVisualizer(\n",
    "    project_id=PROJECT,\n",
    "    table_id=TABLE,\n",
    "    # credentials_path=None  # uses Colab / local gcloud default\n",
    ")"
   ]
  },
  {
   "cell_type": "markdown",
   "id": "549df232",
   "metadata": {},
   "source": [
    "### Manual Plots"
   ]
  },
  {
   "cell_type": "code",
   "execution_count": null,
   "id": "b7bc170b",
   "metadata": {},
   "outputs": [],
   "source": [
    "# Quick look at the raw table\n",
    "viz.display_table(limit=5)"
   ]
  },
  {
   "cell_type": "code",
   "execution_count": null,
   "id": "e9573265",
   "metadata": {},
   "outputs": [],
   "source": [
    "# Categorical Bar\n",
    "# births per year\n",
    "viz.plot_categorical_chart(\n",
    "    dimensions=[\"year\"],\n",
    "    metrics={\"record_count\": \"COUNT\"},\n",
    "    order_by=\"year\",\n",
    "    orientation=\"v\",\n",
    "    limit=None\n",
    ")"
   ]
  },
  {
   "cell_type": "code",
   "execution_count": null,
   "id": "5587a098",
   "metadata": {},
   "outputs": [],
   "source": [
    "# Numeric Histogram\n",
    "viz.plot_histogram(\n",
    "    numeric_column=\"weight_pounds\",\n",
    "    bins=40,\n",
    "    histnorm=\"probability\",\n",
    "    log_x=False\n",
    ")"
   ]
  },
  {
   "cell_type": "code",
   "execution_count": null,
   "id": "e1900c83",
   "metadata": {},
   "outputs": [],
   "source": [
    "# Violin by Category\n",
    "viz.plot_violin_chart(\n",
    "    numeric_column=\"weight_pounds\",\n",
    "    category_dimension=\"is_male\",\n",
    "    log_scale=False,\n",
    "    palette=\"Pastel1\"\n",
    ")"
   ]
  },
  {
   "cell_type": "code",
   "execution_count": null,
   "id": "83ee14cd",
   "metadata": {},
   "outputs": [],
   "source": [
    "# Scatter / Bubble\n",
    "viz.plot_scatter_chart(\n",
    "    dimension=\"state\",\n",
    "    x_metric={\"column\": \"gestation_weeks\", \"aggregation\": \"AVG\"},\n",
    "    y_metric={\"column\": \"weight_pounds\",   \"aggregation\": \"AVG\"},\n",
    "    bubble_size_metric={\"column\": \"record_count\", \"aggregation\": \"COUNT\"},\n",
    "    color_dimension=None,\n",
    "    remove_nulls=True,\n",
    "    trend_line=\"ols\"\n",
    ")"
   ]
  },
  {
   "cell_type": "markdown",
   "id": "66f52bd2",
   "metadata": {},
   "source": [
    "### Run the full pipeline"
   ]
  },
  {
   "cell_type": "code",
   "execution_count": null,
   "id": "5abbb7da",
   "metadata": {},
   "outputs": [],
   "source": [
    "pipe = Pipeline(\n",
    "    sample_rows=150_000,    # sampling cap for heavy stages\n",
    "    target_column=None      # no label in this dataset\n",
    ")\n",
    "ctx = pipe.run(viz)"
   ]
  },
  {
   "cell_type": "code",
   "execution_count": null,
   "id": "8f3a1723",
   "metadata": {},
   "outputs": [],
   "source": [
    "list(ctx.tables.keys())[:6]"
   ]
  },
  {
   "cell_type": "code",
   "execution_count": null,
   "id": "f081e99c",
   "metadata": {},
   "outputs": [],
   "source": [
    "# non-null percentage table\n",
    "ctx.get_table(\"profiling.non_null_pct\").head()"
   ]
  },
  {
   "cell_type": "code",
   "execution_count": null,
   "id": "c46fec3b",
   "metadata": {},
   "outputs": [],
   "source": [
    "# correlation heat-map figure\n",
    "ctx.get_figure(\"bivariate.corr_heatmap\").show()"
   ]
  }
 ],
 "metadata": {
  "kernelspec": {
   "display_name": "Python 3",
   "language": "python",
   "name": "python3"
  },
  "language_info": {
   "name": "python",
   "version": "3.12.7"
  }
 },
 "nbformat": 4,
 "nbformat_minor": 5
}
